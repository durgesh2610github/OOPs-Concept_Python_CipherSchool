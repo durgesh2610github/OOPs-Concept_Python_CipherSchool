{
  "nbformat": 4,
  "nbformat_minor": 0,
  "metadata": {
    "colab": {
      "provenance": []
    },
    "kernelspec": {
      "name": "python3",
      "display_name": "Python 3"
    },
    "language_info": {
      "name": "python"
    }
  },
  "cells": [
    {
      "cell_type": "code",
      "execution_count": null,
      "metadata": {
        "id": "GUxBlcVWRR6l"
      },
      "outputs": [],
      "source": []
    },
    {
      "cell_type": "code",
      "source": [
        "#Object Oriented Programmings, OOPs\n",
        "'''1. Abstraction\n",
        "   2. Encapsulation\n",
        "   3.Polymorphism\n",
        "   4. Inheritance '''\n",
        "#class\n",
        "#Object\n"
      ],
      "metadata": {
        "id": "DTKEgzYKvJ-r",
        "colab": {
          "base_uri": "https://localhost:8080/",
          "height": 35
        },
        "outputId": "01486d22-1a63-4581-b615-c40b0120a78e"
      },
      "execution_count": null,
      "outputs": [
        {
          "output_type": "execute_result",
          "data": {
            "text/plain": [
              "'1. Abstraction\\n   2. Encapsulation\\n   3.Polymorphism\\n   4. Inheritance '"
            ],
            "application/vnd.google.colaboratory.intrinsic+json": {
              "type": "string"
            }
          },
          "metadata": {},
          "execution_count": 1
        }
      ]
    },
    {
      "cell_type": "code",
      "source": [
        "\n",
        " #Class creation & defination\n",
        "class Car:\n",
        "  height = 10\n",
        "\n",
        "Bugatti = Car() #object creation\n",
        "RR = Car()\n",
        "\n",
        "print(Bugatti.height) #calling of value in the class through object\n",
        "print(RR.height)\n"
      ],
      "metadata": {
        "colab": {
          "base_uri": "https://localhost:8080/"
        },
        "id": "y3WD7RAUj5d2",
        "outputId": "decfd868-3322-4be8-e52f-39e7e6ecae12"
      },
      "execution_count": null,
      "outputs": [
        {
          "output_type": "stream",
          "name": "stdout",
          "text": [
            "10\n",
            "10\n"
          ]
        }
      ]
    },
    {
      "cell_type": "code",
      "source": [
        "class Student:\n",
        "  def __init__(self, name, reg):\n",
        "    self.name = name\n",
        "    self.reg = reg\n",
        "\n",
        "s1 = Student(\"Durgesh\", 12217049)\n",
        "print(s1.name)\n",
        "print(s1.reg)"
      ],
      "metadata": {
        "colab": {
          "base_uri": "https://localhost:8080/"
        },
        "id": "Ce926FMQmVqb",
        "outputId": "1f815e01-f91d-4d2e-9c56-2869dbac221d"
      },
      "execution_count": null,
      "outputs": [
        {
          "output_type": "stream",
          "name": "stdout",
          "text": [
            "Durgesh\n",
            "12217049\n"
          ]
        }
      ]
    },
    {
      "cell_type": "code",
      "source": [
        "class Student:\n",
        "  def __init__(self, name, reg,):\n",
        "    self.name = name\n",
        "    self.reg = reg\n",
        "\n",
        "  def pr(self):\n",
        "    print(\"Hello my name is \"+self.name)\n",
        "\n",
        "s1 = Student(\"Durgesh\", 12217049)\n",
        "s1.pr()\n"
      ],
      "metadata": {
        "colab": {
          "base_uri": "https://localhost:8080/"
        },
        "id": "Y6IJg00RrOdN",
        "outputId": "2f01247e-fdbc-40e7-b1aa-0867dbc26857"
      },
      "execution_count": null,
      "outputs": [
        {
          "output_type": "stream",
          "name": "stdout",
          "text": [
            "Hello my name is Durgesh\n"
          ]
        }
      ]
    },
    {
      "cell_type": "code",
      "source": [
        "#inheritance \n",
        "class Person:\n",
        "  def __init__(self, name, age):\n",
        "    self.name = name\n",
        "    self.age = age\n",
        "\n",
        "  def display(self):\n",
        "    print(self.name, self.age)\n",
        "\n",
        "\n",
        "class Employee(Person):\n",
        "  pass \n",
        "\n",
        "\n",
        "a = Employee(\"Durgesh\", 18)\n",
        "a.display()"
      ],
      "metadata": {
        "id": "Vz3vvv4Axa9r",
        "colab": {
          "base_uri": "https://localhost:8080/"
        },
        "outputId": "a75283ad-d1a8-4da2-c24c-493f112e6b8d"
      },
      "execution_count": null,
      "outputs": [
        {
          "output_type": "stream",
          "name": "stdout",
          "text": [
            "Durgesh 18\n"
          ]
        }
      ]
    },
    {
      "cell_type": "code",
      "source": [
        "class Person:\n",
        "  def __init__(self, name, age):\n",
        "    self.name = name\n",
        "    self.age = age\n",
        "\n",
        "  def display(self):\n",
        "    print(self.name, self.age)\n",
        "\n",
        "class Employee(Person):\n",
        "  def __init__(self, name, age):\n",
        "    Person.__init__(self, name, age)\n",
        "\n",
        "a = Employee(\"Durgesh\", 18)\n",
        "a.display()"
      ],
      "metadata": {
        "colab": {
          "base_uri": "https://localhost:8080/"
        },
        "id": "50N5HxPyLx6B",
        "outputId": "3a76f965-ed81-4db3-85dd-569463f4d3a7"
      },
      "execution_count": null,
      "outputs": [
        {
          "output_type": "stream",
          "name": "stdout",
          "text": [
            "Durgesh 18\n"
          ]
        }
      ]
    },
    {
      "cell_type": "code",
      "source": [
        "class Person:\n",
        "  def __init__(self, name, age):\n",
        "    self.name = name\n",
        "    self.age = age\n",
        "\n",
        "  def display(self):\n",
        "    print(self.name, self.age)\n",
        "\n",
        "class Employee(Person):\n",
        "  def __init__(self, name, age, year):\n",
        "    super().__init__(name, age)\n",
        "    self.year = year\n",
        "\n",
        "  def welcome(self):\n",
        "    print(\"Welcome\",self.name,\"You are\",self.age,\"years old,\",\"Your birth year is\",self.year)\n",
        "\n",
        "a= Employee(\"Durgesh Kanjariya,\", 18, 2014)\n",
        "a.welcome()"
      ],
      "metadata": {
        "colab": {
          "base_uri": "https://localhost:8080/"
        },
        "id": "15XEzS3POQbX",
        "outputId": "030c2eee-d40a-4daf-be18-9d0989c99886"
      },
      "execution_count": null,
      "outputs": [
        {
          "output_type": "stream",
          "name": "stdout",
          "text": [
            "Welcome Durgesh Kanjariya, You are 18 years old, Your birth year is 2014\n"
          ]
        }
      ]
    },
    {
      "cell_type": "code",
      "source": [
        "class Animal:\n",
        "  def speak(self):\n",
        "    print(\"Animal is speaking\")\n",
        "\n",
        "class Dog(Animal):\n",
        "  def bark(self):\n",
        "    print(\"Dog Barking\")\n",
        "\n",
        "class Puppy(Dog):\n",
        "  def eat(self):\n",
        "    print(\"Puppy is eating bread\")\n",
        "\n",
        "a = Puppy()\n",
        "a.speak()\n",
        "a.bark()\n",
        "a.eat()"
      ],
      "metadata": {
        "colab": {
          "base_uri": "https://localhost:8080/"
        },
        "id": "W6MuT27nrIHR",
        "outputId": "c5213eec-a7ee-42c7-f2bf-ed602bfe19fd"
      },
      "execution_count": null,
      "outputs": [
        {
          "output_type": "stream",
          "name": "stdout",
          "text": [
            "Animal is speaking\n",
            "Dog Barking\n",
            "Puppy is eating bread\n"
          ]
        }
      ]
    },
    {
      "cell_type": "code",
      "source": [
        "class Calc1:\n",
        "  def add(self, a,b):\n",
        "    return a + b\n",
        "\n",
        "class Calc2:\n",
        "  def multi(self, a,b):\n",
        "    return a*b\n",
        "\n",
        "class Calc3(Calc1, Calc2):\n",
        "  def div(self, a,b):\n",
        "    return a/b\n",
        "\n",
        "a = Calc3()\n",
        "print(a.add(10,20))\n",
        "print(a.multi(4,3))\n",
        "print(a.div(10,5))"
      ],
      "metadata": {
        "colab": {
          "base_uri": "https://localhost:8080/"
        },
        "id": "t_5JCRQBsKz1",
        "outputId": "bc6d6f0b-6e27-49fe-db3c-30e7d474c518"
      },
      "execution_count": null,
      "outputs": [
        {
          "output_type": "stream",
          "name": "stdout",
          "text": [
            "30\n",
            "12\n",
            "2.0\n"
          ]
        }
      ]
    }
  ]
}