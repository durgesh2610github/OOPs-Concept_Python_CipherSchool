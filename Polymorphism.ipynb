{
  "nbformat": 4,
  "nbformat_minor": 0,
  "metadata": {
    "colab": {
      "provenance": [],
      "authorship_tag": "ABX9TyMHeAFm6koa2Yz3DaYR20E8",
      "include_colab_link": true
    },
    "kernelspec": {
      "name": "python3",
      "display_name": "Python 3"
    },
    "language_info": {
      "name": "python"
    }
  },
  "cells": [
    {
      "cell_type": "markdown",
      "metadata": {
        "id": "view-in-github",
        "colab_type": "text"
      },
      "source": [
        "<a href=\"https://colab.research.google.com/github/durgesh2610github/OOPs-Concept_Python_CipherSchool/blob/main/Polymorphism.ipynb\" target=\"_parent\"><img src=\"https://colab.research.google.com/assets/colab-badge.svg\" alt=\"Open In Colab\"/></a>"
      ]
    },
    {
      "cell_type": "code",
      "execution_count": null,
      "metadata": {
        "id": "rP5JFPkECB6N"
      },
      "outputs": [],
      "source": []
    },
    {
      "cell_type": "code",
      "source": [
        "#Polymorphism\n",
        "print(len(\"cipherschools\"))\n",
        "\n",
        "print(len([1,2,3,4,5]))"
      ],
      "metadata": {
        "colab": {
          "base_uri": "https://localhost:8080/"
        },
        "id": "2PWwU0p973s6",
        "outputId": "dd3fb743-c7fe-44c4-b4bc-6dcae7eda545"
      },
      "execution_count": null,
      "outputs": [
        {
          "output_type": "stream",
          "name": "stdout",
          "text": [
            "13\n",
            "5\n"
          ]
        }
      ]
    },
    {
      "cell_type": "code",
      "source": [
        "def add (a,b,c=0):\n",
        "  return a + b + c\n",
        "\n",
        "print(add(1,2))\n",
        "print(add(1,2,3))"
      ],
      "metadata": {
        "colab": {
          "base_uri": "https://localhost:8080/"
        },
        "id": "M4f8zYvp-rbM",
        "outputId": "cbce15d7-8cb1-4f83-ab71-f3c91b0d769a"
      },
      "execution_count": null,
      "outputs": [
        {
          "output_type": "stream",
          "name": "stdout",
          "text": [
            "3\n",
            "6\n"
          ]
        }
      ]
    },
    {
      "cell_type": "code",
      "source": [
        "print(\"Don't sleep while coding\")"
      ],
      "metadata": {
        "colab": {
          "base_uri": "https://localhost:8080/"
        },
        "id": "fHQdpgceCHK4",
        "outputId": "cf60fdfe-2575-4332-acbd-1fe93ea20389"
      },
      "execution_count": null,
      "outputs": [
        {
          "output_type": "stream",
          "name": "stdout",
          "text": [
            "Don't sleep while coding\n"
          ]
        }
      ]
    },
    {
      "cell_type": "code",
      "source": [
        "#Polymorphism with Inheritance \n",
        "class Bird:\n",
        "  def intro(self):\n",
        "    print(\"Hi this is a bird class\")\n",
        "\n",
        "  def flight(self):\n",
        "    print(\"Most of the birds can fly\")\n",
        "\n",
        "class Parrot(Bird):\n",
        "  def flight(self):\n",
        "    print(\"Parrots can fly\")\n",
        "\n",
        "class Ostrich(Bird):\n",
        "  def flight(self):\n",
        "    print(\"ostrich cannot fly\")\n",
        "\n",
        "obj1 = Bird()\n",
        "obj2 = Parrot()\n",
        "obj3 = Ostrich()\n",
        "\n",
        "obj1.intro()\n",
        "obj1.flight()\n",
        "\n",
        "obj2.intro()\n",
        "obj2.flight()\n",
        "\n",
        "obj3.intro()\n",
        "obj3.flight()\n",
        "\n",
        "\n",
        "\n"
      ],
      "metadata": {
        "colab": {
          "base_uri": "https://localhost:8080/"
        },
        "id": "_DAd0gvYC6Ds",
        "outputId": "b54a499d-ba87-4a5a-a824-32750592aef7"
      },
      "execution_count": null,
      "outputs": [
        {
          "output_type": "stream",
          "name": "stdout",
          "text": [
            "Hi this is a bird class\n",
            "Most of the birds can fly\n",
            "Hi this is a bird class\n",
            "Parrots can fly\n",
            "Hi this is a bird class\n",
            "ostrich cannot fly\n"
          ]
        }
      ]
    },
    {
      "cell_type": "code",
      "source": [
        "#Polymorphism with a Function & Object\n",
        "\n",
        "class India():\n",
        "  def capital(self):\n",
        "    print(\"New Delhi is the capital of India\")\n",
        "\n",
        "  def language(self):\n",
        "    print(\"Many languages are spoken in India\")\n",
        "\n",
        "class USA():\n",
        "  def capital(self):\n",
        "    print(\"Washington DC is the capital of America\")\n",
        "\n",
        "  def language(self):\n",
        "    print(\"English is the primary language spoken\")\n",
        "\n",
        "def test(obj):\n",
        "  obj.capital()\n",
        "  obj.language()\n",
        "\n",
        "obj1 = India()\n",
        "obj2 = USA()\n",
        "\n",
        "test(obj1)\n",
        "test(obj2)\n",
        "\n"
      ],
      "metadata": {
        "colab": {
          "base_uri": "https://localhost:8080/"
        },
        "id": "v4RH5_unH_FI",
        "outputId": "1ca6bf66-47e1-48f8-9bdf-e550f4dd7689"
      },
      "execution_count": null,
      "outputs": [
        {
          "output_type": "stream",
          "name": "stdout",
          "text": [
            "New Delhi is the capital of India\n",
            "Many languages are spoken in India\n",
            "Washington DC is the capital of America\n",
            "English is the primary language spoken\n"
          ]
        }
      ]
    },
    {
      "cell_type": "code",
      "source": [],
      "metadata": {
        "id": "XXPRgh5-OjRv"
      },
      "execution_count": null,
      "outputs": []
    }
  ]
}